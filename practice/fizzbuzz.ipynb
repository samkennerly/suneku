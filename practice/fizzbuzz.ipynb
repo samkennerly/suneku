{
 "cells": [
  {
   "cell_type": "markdown",
   "metadata": {},
   "source": [
    "# FizzBuzz\n",
    "a simple notebook to test if your lab is working"
   ]
  },
  {
   "cell_type": "code",
   "execution_count": 1,
   "metadata": {
    "collapsed": false
   },
   "outputs": [
    {
     "name": "stdout",
     "output_type": "stream",
     "text": [
      "total 36\r\n",
      "drwxr-xr-x 15 root root   510 May 20 23:08 \u001b[0m\u001b[01;34m.\u001b[0m/\r\n",
      "drwxr-xr-x 51 root root  4096 Jun  4 17:14 \u001b[01;34m..\u001b[0m/\r\n",
      "-rw-r--r--  1 root root 10244 May 22 06:42 .DS_Store\r\n",
      "-rw-r--r--  1 root root   268 May 20 23:08 .env\r\n",
      "drwxr-xr-x 15 root root   510 Jun  4 17:25 \u001b[01;34m.git\u001b[0m/\r\n",
      "-rw-r--r--  1 root root   495 May 20 21:39 .gitignore\r\n",
      "drwxr-xr-x  4 root root   136 Feb 22 02:49 \u001b[01;34m.ipynb_checkpoints\u001b[0m/\r\n",
      "-rw-r--r--  1 root root  1512 Jan 29 00:52 LICENSE\r\n",
      "-rw-r--r--  1 root root  7066 May 20 22:54 README.md\r\n",
      "drwxr-xr-x 13 root root   442 May 21 21:51 \u001b[01;34mdata\u001b[0m/\r\n",
      "drwxr-xr-x  6 root root   204 May 20 23:18 \u001b[01;34mlabs\u001b[0m/\r\n",
      "drwxr-xr-x  8 root root   272 Feb 22 01:48 \u001b[01;34mpractice\u001b[0m/\r\n",
      "drwxr-xr-x  4 root root   136 May 22 06:42 \u001b[01;34mprivate\u001b[0m/\r\n",
      "drwxr-xr-x  6 root root   204 Jun  4 17:26 \u001b[01;34mstudies\u001b[0m/\r\n",
      "drwxr-xr-x  9 root root   306 Feb 23 02:58 \u001b[01;34msunekutools\u001b[0m/\r\n"
     ]
    }
   ],
   "source": [
    "%ls -la /suneku"
   ]
  },
  {
   "cell_type": "code",
   "execution_count": 2,
   "metadata": {
    "collapsed": false
   },
   "outputs": [
    {
     "name": "stdout",
     "output_type": "stream",
     "text": [
      "1\t2\tFizz\t4\tBuzz\n",
      "Fizz\t7\t8\tFizz\tBuzz\n",
      "11\tFizz\t13\t14\tFizzBuzz\n",
      "16\t17\tFizz\t19\tBuzz\n",
      "Fizz\t22\t23\tFizz\tBuzz\n",
      "26\tFizz\t28\t29\tFizzBuzz\n",
      "31\t32\tFizz\t34\tBuzz\n",
      "Fizz\t37\t38\tFizz\tBuzz\n",
      "41\tFizz\t43\t44\tFizzBuzz\n",
      "46\t47\tFizz\t49\tBuzz\n",
      "Fizz\t52\t53\tFizz\tBuzz\n",
      "56\tFizz\t58\t59\tFizzBuzz\n",
      "61\t62\tFizz\t64\tBuzz\n",
      "Fizz\t67\t68\tFizz\tBuzz\n",
      "71\tFizz\t73\t74\tFizzBuzz\n",
      "76\t77\tFizz\t79\tBuzz\n",
      "Fizz\t82\t83\tFizz\tBuzz\n",
      "86\tFizz\t88\t89\tFizzBuzz\n",
      "91\t92\tFizz\t94\tBuzz\n",
      "Fizz\t97\t98\tFizz\tBuzz\n"
     ]
    }
   ],
   "source": [
    "def fizzbuzz(fizzmod,buzzmod,size=100):\n",
    "        \n",
    "    def makestr(x):\n",
    "        \n",
    "        is_fizz = x % fizzmod == 0\n",
    "        is_buzz = x % buzzmod == 0\n",
    "\n",
    "        if (is_fizz & is_buzz):\n",
    "            s = \"FizzBuzz\\n\"\n",
    "        elif is_fizz:\n",
    "            s = \"Fizz\\t\"\n",
    "        elif is_buzz:\n",
    "            s = \"Buzz\\n\"\n",
    "        else:\n",
    "            s = str(x) + '\\t'\n",
    "    \n",
    "        return s\n",
    "    \n",
    "    [ print(makestr(x),end='') for x in range (1,size+1) ]\n",
    "\n",
    "fizzbuzz(3,5,100)"
   ]
  },
  {
   "cell_type": "code",
   "execution_count": 3,
   "metadata": {
    "collapsed": false
   },
   "outputs": [
    {
     "name": "stdout",
     "output_type": "stream",
     "text": [
      "1\t2\t3\t4\tFizz\t6\t7\tBuzz\n",
      "9\tFizz\t11\t12\t13\t14\tFizz\tBuzz\n",
      "17\t18\t19\tFizz\t21\t22\t23\tBuzz\n",
      "Fizz\t26\t27\t28\t29\tFizz\t31\tBuzz\n",
      "33\t34\tFizz\t36\t37\t38\t39\tFizzBuzz\n",
      "41\t42\t43\t44\tFizz\t46\t47\tBuzz\n",
      "49\tFizz\t51\t52\t53\t54\tFizz\tBuzz\n",
      "57\t58\t59\tFizz\t61\t62\t63\tBuzz\n",
      "Fizz\t66\t67\t68\t69\tFizz\t71\tBuzz\n",
      "73\t74\tFizz\t76\t77\t78\t79\tFizzBuzz\n"
     ]
    }
   ],
   "source": [
    "fizzbuzz(5,8,5*8*2)"
   ]
  }
 ],
 "metadata": {
  "anaconda-cloud": {},
  "kernelspec": {
   "display_name": "Python [conda root]",
   "language": "python",
   "name": "conda-root-py"
  },
  "language_info": {
   "codemirror_mode": {
    "name": "ipython",
    "version": 3
   },
   "file_extension": ".py",
   "mimetype": "text/x-python",
   "name": "python",
   "nbconvert_exporter": "python",
   "pygments_lexer": "ipython3",
   "version": "3.5.2"
  }
 },
 "nbformat": 4,
 "nbformat_minor": 1
}
