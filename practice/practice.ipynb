{
 "cells": [
  {
   "cell_type": "markdown",
   "metadata": {},
   "source": [
    "# pandas practice: load and clean a table"
   ]
  },
  {
   "cell_type": "code",
   "execution_count": 1,
   "metadata": {
    "collapsed": false
   },
   "outputs": [
    {
     "data": {
      "application/javascript": [
       "IPython.notebook.set_autosave_interval(0)"
      ]
     },
     "metadata": {},
     "output_type": "display_data"
    },
    {
     "name": "stdout",
     "output_type": "stream",
     "text": [
      "Autosave disabled\n"
     ]
    }
   ],
   "source": [
    "# Jupyter 'magic' commands\n",
    "%autosave 0\n",
    "%matplotlib inline\n",
    "\n",
    "# Import suneku's custom toolkit\n",
    "import sunekutools as st"
   ]
  },
  {
   "cell_type": "markdown",
   "metadata": {},
   "source": [
    "## Load a CSV file as a `DataFrame`\n",
    "\n",
    "A [pandas DataFrame](http://pandas.pydata.org/pandas-docs/stable/dsintro.html#dataframe) is a popular way to store a table in memory.  \n",
    "Each column of a DataFrame is a [Series](http://pandas.pydata.org/pandas-docs/stable/dsintro.html#series) object.\n",
    " \n",
    "Each DataFrame comes with built-in methods designed for [SQL-style data manipulation](http://pandas.pydata.org/pandas-docs/stable/comparison_with_sql.html).  \n",
    "DataFrames have many of the same features as [data.frame objects in R](http://pandas.pydata.org/pandas-docs/stable/comparison_with_r.html).\n",
    "\n",
    "Suneku comes with a few example CSV files in the `~/suneku/data/` folder.  \n",
    "Note that a suneku lab can only see files inside your `~/suneku/` folder.  \n",
    "From inside a lab, this folder will appear as `/suneku/` without the `~`."
   ]
  },
  {
   "cell_type": "code",
   "execution_count": 2,
   "metadata": {
    "collapsed": false
   },
   "outputs": [
    {
     "data": {
      "text/html": [
       "<div>\n",
       "<table border=\"1\" class=\"dataframe\">\n",
       "  <thead>\n",
       "    <tr style=\"text-align: right;\">\n",
       "      <th></th>\n",
       "      <th>Unnamed: 0</th>\n",
       "      <th>Unnamed: 1</th>\n",
       "      <th>Population using improved drinking-water sources (%)</th>\n",
       "      <th>Population using improved drinking-water sources (%).1</th>\n",
       "      <th>Population using improved drinking-water sources (%).2</th>\n",
       "      <th>Population using improved sanitation facilities (%)</th>\n",
       "      <th>Population using improved sanitation facilities (%).1</th>\n",
       "      <th>Population using improved sanitation facilities (%).2</th>\n",
       "    </tr>\n",
       "  </thead>\n",
       "  <tbody>\n",
       "    <tr>\n",
       "      <th>0</th>\n",
       "      <td>Country</td>\n",
       "      <td>Year</td>\n",
       "      <td>Rural</td>\n",
       "      <td>Urban</td>\n",
       "      <td>Total</td>\n",
       "      <td>Rural</td>\n",
       "      <td>Urban</td>\n",
       "      <td>Total</td>\n",
       "    </tr>\n",
       "    <tr>\n",
       "      <th>1</th>\n",
       "      <td>Afghanistan</td>\n",
       "      <td>2015</td>\n",
       "      <td>47.0</td>\n",
       "      <td>78.2</td>\n",
       "      <td>55.3</td>\n",
       "      <td>27.0</td>\n",
       "      <td>45.1</td>\n",
       "      <td>31.9</td>\n",
       "    </tr>\n",
       "    <tr>\n",
       "      <th>2</th>\n",
       "      <td>Afghanistan</td>\n",
       "      <td>2000</td>\n",
       "      <td>24.3</td>\n",
       "      <td>52.2</td>\n",
       "      <td>30.3</td>\n",
       "      <td>21.3</td>\n",
       "      <td>31.2</td>\n",
       "      <td>23.4</td>\n",
       "    </tr>\n",
       "    <tr>\n",
       "      <th>3</th>\n",
       "      <td>Albania</td>\n",
       "      <td>2015</td>\n",
       "      <td>95.2</td>\n",
       "      <td>94.9</td>\n",
       "      <td>95.1</td>\n",
       "      <td>90.2</td>\n",
       "      <td>95.5</td>\n",
       "      <td>93.2</td>\n",
       "    </tr>\n",
       "    <tr>\n",
       "      <th>4</th>\n",
       "      <td>Albania</td>\n",
       "      <td>2000</td>\n",
       "      <td>93.3</td>\n",
       "      <td>100.0</td>\n",
       "      <td>96.1</td>\n",
       "      <td>75.2</td>\n",
       "      <td>94.8</td>\n",
       "      <td>83.4</td>\n",
       "    </tr>\n",
       "  </tbody>\n",
       "</table>\n",
       "</div>"
      ],
      "text/plain": [
       "    Unnamed: 0 Unnamed: 1  \\\n",
       "0      Country       Year   \n",
       "1  Afghanistan       2015   \n",
       "2  Afghanistan       2000   \n",
       "3      Albania       2015   \n",
       "4      Albania       2000   \n",
       "\n",
       "  Population using improved drinking-water sources (%)  \\\n",
       "0                                              Rural     \n",
       "1                                               47.0     \n",
       "2                                               24.3     \n",
       "3                                               95.2     \n",
       "4                                               93.3     \n",
       "\n",
       "  Population using improved drinking-water sources (%).1  \\\n",
       "0                                              Urban       \n",
       "1                                               78.2       \n",
       "2                                               52.2       \n",
       "3                                               94.9       \n",
       "4                                              100.0       \n",
       "\n",
       "  Population using improved drinking-water sources (%).2  \\\n",
       "0                                              Total       \n",
       "1                                               55.3       \n",
       "2                                               30.3       \n",
       "3                                               95.1       \n",
       "4                                               96.1       \n",
       "\n",
       "  Population using improved sanitation facilities (%)  \\\n",
       "0                                              Rural    \n",
       "1                                               27.0    \n",
       "2                                               21.3    \n",
       "3                                               90.2    \n",
       "4                                               75.2    \n",
       "\n",
       "  Population using improved sanitation facilities (%).1  \\\n",
       "0                                              Urban      \n",
       "1                                               45.1      \n",
       "2                                               31.2      \n",
       "3                                               95.5      \n",
       "4                                               94.8      \n",
       "\n",
       "  Population using improved sanitation facilities (%).2  \n",
       "0                                              Total     \n",
       "1                                               31.9     \n",
       "2                                               23.4     \n",
       "3                                               93.2     \n",
       "4                                               83.4     "
      ]
     },
     "execution_count": 2,
     "metadata": {},
     "output_type": "execute_result"
    }
   ],
   "source": [
    "INPUT_FILE = '/suneku/data/WaterSanitation.csv'\n",
    "Data = st.pd.read_csv(INPUT_FILE)\n",
    "Data.head()"
   ]
  },
  {
   "cell_type": "markdown",
   "metadata": {
    "collapsed": false
   },
   "source": [
    "## Simplify column names\n",
    "In the original file, column names are stored in a complicated way spread out across two rows."
   ]
  },
  {
   "cell_type": "code",
   "execution_count": 3,
   "metadata": {
    "collapsed": false
   },
   "outputs": [
    {
     "data": {
      "text/html": [
       "<div>\n",
       "<table border=\"1\" class=\"dataframe\">\n",
       "  <thead>\n",
       "    <tr style=\"text-align: right;\">\n",
       "      <th></th>\n",
       "      <th>Country</th>\n",
       "      <th>Year</th>\n",
       "      <th>WaterPctRural</th>\n",
       "      <th>WaterPctUrban</th>\n",
       "      <th>WaterPct</th>\n",
       "      <th>SaniPctRural</th>\n",
       "      <th>SaniPctUrban</th>\n",
       "      <th>SaniPct</th>\n",
       "    </tr>\n",
       "  </thead>\n",
       "  <tbody>\n",
       "    <tr>\n",
       "      <th>1</th>\n",
       "      <td>Afghanistan</td>\n",
       "      <td>2015</td>\n",
       "      <td>47.0</td>\n",
       "      <td>78.2</td>\n",
       "      <td>55.3</td>\n",
       "      <td>27.0</td>\n",
       "      <td>45.1</td>\n",
       "      <td>31.9</td>\n",
       "    </tr>\n",
       "    <tr>\n",
       "      <th>2</th>\n",
       "      <td>Afghanistan</td>\n",
       "      <td>2000</td>\n",
       "      <td>24.3</td>\n",
       "      <td>52.2</td>\n",
       "      <td>30.3</td>\n",
       "      <td>21.3</td>\n",
       "      <td>31.2</td>\n",
       "      <td>23.4</td>\n",
       "    </tr>\n",
       "    <tr>\n",
       "      <th>3</th>\n",
       "      <td>Albania</td>\n",
       "      <td>2015</td>\n",
       "      <td>95.2</td>\n",
       "      <td>94.9</td>\n",
       "      <td>95.1</td>\n",
       "      <td>90.2</td>\n",
       "      <td>95.5</td>\n",
       "      <td>93.2</td>\n",
       "    </tr>\n",
       "    <tr>\n",
       "      <th>4</th>\n",
       "      <td>Albania</td>\n",
       "      <td>2000</td>\n",
       "      <td>93.3</td>\n",
       "      <td>100.0</td>\n",
       "      <td>96.1</td>\n",
       "      <td>75.2</td>\n",
       "      <td>94.8</td>\n",
       "      <td>83.4</td>\n",
       "    </tr>\n",
       "    <tr>\n",
       "      <th>5</th>\n",
       "      <td>Albania</td>\n",
       "      <td>1990</td>\n",
       "      <td>NaN</td>\n",
       "      <td>100.0</td>\n",
       "      <td>NaN</td>\n",
       "      <td>68.7</td>\n",
       "      <td>94.5</td>\n",
       "      <td>78.1</td>\n",
       "    </tr>\n",
       "  </tbody>\n",
       "</table>\n",
       "</div>"
      ],
      "text/plain": [
       "       Country   Year WaterPctRural WaterPctUrban WaterPct SaniPctRural  \\\n",
       "1  Afghanistan   2015          47.0          78.2     55.3         27.0   \n",
       "2  Afghanistan   2000          24.3          52.2     30.3         21.3   \n",
       "3      Albania   2015          95.2          94.9     95.1         90.2   \n",
       "4      Albania   2000          93.3         100.0     96.1         75.2   \n",
       "5      Albania   1990           NaN         100.0      NaN         68.7   \n",
       "\n",
       "  SaniPctUrban SaniPct  \n",
       "1         45.1    31.9  \n",
       "2         31.2    23.4  \n",
       "3         95.5    93.2  \n",
       "4         94.8    83.4  \n",
       "5         94.5    78.1  "
      ]
     },
     "execution_count": 3,
     "metadata": {},
     "output_type": "execute_result"
    }
   ],
   "source": [
    "# Make some simpler column names\n",
    "col_names = [\n",
    "    'Country',\n",
    "    'Year',\n",
    "    'WaterPctRural',\n",
    "    'WaterPctUrban',\n",
    "    'WaterPct',\n",
    "    'SaniPctRural',\n",
    "    'SaniPctUrban',\n",
    "    'SaniPct']\n",
    "Data.columns = col_names\n",
    "\n",
    "# Delete row #0 from the table.\n",
    "Data = Data.drop(0)\n",
    "\n",
    "Data.head()"
   ]
  },
  {
   "cell_type": "markdown",
   "metadata": {},
   "source": [
    "## Watch out for leading and trailing whitespace"
   ]
  },
  {
   "cell_type": "code",
   "execution_count": 4,
   "metadata": {
    "collapsed": false
   },
   "outputs": [
    {
     "data": {
      "text/plain": [
       "array([' 2015', ' 2000', ' 1990'], dtype=object)"
      ]
     },
     "execution_count": 4,
     "metadata": {},
     "output_type": "execute_result"
    }
   ],
   "source": [
    "# Beware of string data with hard-to-see whitespace characters\n",
    "Data['Year'].unique()"
   ]
  },
  {
   "cell_type": "code",
   "execution_count": 5,
   "metadata": {
    "collapsed": false
   },
   "outputs": [
    {
     "data": {
      "text/plain": [
       "False"
      ]
     },
     "execution_count": 5,
     "metadata": {},
     "output_type": "execute_result"
    }
   ],
   "source": [
    "# Extra whitespace can cause confusing results\n",
    "(Data['Year'] == '2015').any()"
   ]
  },
  {
   "cell_type": "code",
   "execution_count": 6,
   "metadata": {
    "collapsed": false
   },
   "outputs": [
    {
     "data": {
      "text/plain": [
       "array(['2015', '2000', '1990'], dtype=object)"
      ]
     },
     "execution_count": 6,
     "metadata": {},
     "output_type": "execute_result"
    }
   ],
   "source": [
    "# Remove all leading and trailing whitespace from each string\n",
    "for col in Data.columns:\n",
    "    Data[col] = Data[col].str.strip()\n",
    "Data['Year'].unique()"
   ]
  },
  {
   "cell_type": "markdown",
   "metadata": {},
   "source": [
    "## Adjust column datatypes\n",
    "`pd.read_csv()` tries to guess what type of data is in each column, but it can be wrong.  \n",
    "Check the datatypes and change them if necessary."
   ]
  },
  {
   "cell_type": "code",
   "execution_count": 7,
   "metadata": {
    "collapsed": false
   },
   "outputs": [
    {
     "data": {
      "text/plain": [
       "Country          object\n",
       "Year             object\n",
       "WaterPctRural    object\n",
       "WaterPctUrban    object\n",
       "WaterPct         object\n",
       "SaniPctRural     object\n",
       "SaniPctUrban     object\n",
       "SaniPct          object\n",
       "dtype: object"
      ]
     },
     "execution_count": 7,
     "metadata": {},
     "output_type": "execute_result"
    }
   ],
   "source": [
    "# Looks like everything in this table is the generic 'object' type\n",
    "Data.dtypes"
   ]
  },
  {
   "cell_type": "code",
   "execution_count": 8,
   "metadata": {
    "collapsed": false
   },
   "outputs": [
    {
     "data": {
      "text/plain": [
       "Country                category\n",
       "Year             datetime64[ns]\n",
       "WaterPctRural           float64\n",
       "WaterPctUrban           float64\n",
       "WaterPct                float64\n",
       "SaniPctRural            float64\n",
       "SaniPctUrban            float64\n",
       "SaniPct                 float64\n",
       "dtype: object"
      ]
     },
     "execution_count": 8,
     "metadata": {},
     "output_type": "execute_result"
    }
   ],
   "source": [
    "# Convert 'Country' to a categorical variable\n",
    "Data['Country'] = Data['Country'].astype('category')\n",
    "\n",
    "# Convert 'Year' to datetime64\n",
    "Data['Year'] = st.pd.to_datetime(Data['Year'],format='%Y')\n",
    "\n",
    "# Convert numeric columns to floating-point numbers\n",
    "numeric_cols = [ x for x in Data.columns if x not in ['Country','Year'] ]\n",
    "for col in numeric_cols:\n",
    "    Data[col] = st.pd.to_numeric(Data[col])\n",
    "\n",
    "Data.dtypes"
   ]
  },
  {
   "cell_type": "markdown",
   "metadata": {},
   "source": [
    "## Sort and filter a `DataFrame`"
   ]
  },
  {
   "cell_type": "code",
   "execution_count": 9,
   "metadata": {
    "collapsed": false
   },
   "outputs": [
    {
     "data": {
      "text/html": [
       "<div>\n",
       "<table border=\"1\" class=\"dataframe\">\n",
       "  <thead>\n",
       "    <tr style=\"text-align: right;\">\n",
       "      <th></th>\n",
       "      <th>Country</th>\n",
       "      <th>Year</th>\n",
       "      <th>WaterPctRural</th>\n",
       "      <th>WaterPctUrban</th>\n",
       "      <th>WaterPct</th>\n",
       "      <th>SaniPctRural</th>\n",
       "      <th>SaniPctUrban</th>\n",
       "      <th>SaniPct</th>\n",
       "    </tr>\n",
       "  </thead>\n",
       "  <tbody>\n",
       "    <tr>\n",
       "      <th>464</th>\n",
       "      <td>South Sudan</td>\n",
       "      <td>2015-01-01</td>\n",
       "      <td>56.9</td>\n",
       "      <td>66.7</td>\n",
       "      <td>58.7</td>\n",
       "      <td>4.5</td>\n",
       "      <td>16.4</td>\n",
       "      <td>6.7</td>\n",
       "    </tr>\n",
       "    <tr>\n",
       "      <th>360</th>\n",
       "      <td>Niger</td>\n",
       "      <td>2015-01-01</td>\n",
       "      <td>48.6</td>\n",
       "      <td>100.0</td>\n",
       "      <td>58.2</td>\n",
       "      <td>4.6</td>\n",
       "      <td>37.9</td>\n",
       "      <td>10.9</td>\n",
       "    </tr>\n",
       "    <tr>\n",
       "      <th>499</th>\n",
       "      <td>Togo</td>\n",
       "      <td>2015-01-01</td>\n",
       "      <td>44.2</td>\n",
       "      <td>91.4</td>\n",
       "      <td>63.1</td>\n",
       "      <td>2.9</td>\n",
       "      <td>24.7</td>\n",
       "      <td>11.6</td>\n",
       "    </tr>\n",
       "    <tr>\n",
       "      <th>291</th>\n",
       "      <td>Madagascar</td>\n",
       "      <td>2015-01-01</td>\n",
       "      <td>35.3</td>\n",
       "      <td>81.6</td>\n",
       "      <td>51.5</td>\n",
       "      <td>8.7</td>\n",
       "      <td>18.0</td>\n",
       "      <td>12.0</td>\n",
       "    </tr>\n",
       "    <tr>\n",
       "      <th>97</th>\n",
       "      <td>Chad</td>\n",
       "      <td>2015-01-01</td>\n",
       "      <td>44.8</td>\n",
       "      <td>71.8</td>\n",
       "      <td>50.8</td>\n",
       "      <td>6.5</td>\n",
       "      <td>31.4</td>\n",
       "      <td>12.1</td>\n",
       "    </tr>\n",
       "  </tbody>\n",
       "</table>\n",
       "</div>"
      ],
      "text/plain": [
       "         Country       Year  WaterPctRural  WaterPctUrban  WaterPct  \\\n",
       "464  South Sudan 2015-01-01           56.9           66.7      58.7   \n",
       "360        Niger 2015-01-01           48.6          100.0      58.2   \n",
       "499         Togo 2015-01-01           44.2           91.4      63.1   \n",
       "291   Madagascar 2015-01-01           35.3           81.6      51.5   \n",
       "97          Chad 2015-01-01           44.8           71.8      50.8   \n",
       "\n",
       "     SaniPctRural  SaniPctUrban  SaniPct  \n",
       "464           4.5          16.4      6.7  \n",
       "360           4.6          37.9     10.9  \n",
       "499           2.9          24.7     11.6  \n",
       "291           8.7          18.0     12.0  \n",
       "97            6.5          31.4     12.1  "
      ]
     },
     "execution_count": 9,
     "metadata": {},
     "output_type": "execute_result"
    }
   ],
   "source": [
    "# Find 5 rows with lowest SaniPctTotal in 2015\n",
    "f2015 = Data['Year']=='2015'\n",
    "Data.loc[f2015].sort_values('SaniPct').head()"
   ]
  },
  {
   "cell_type": "code",
   "execution_count": 10,
   "metadata": {
    "collapsed": false
   },
   "outputs": [
    {
     "data": {
      "text/plain": [
       "5                                                Albania\n",
       "11                                               Andorra\n",
       "26                                             Australia\n",
       "29                                               Austria\n",
       "49                                               Belgium\n",
       "73                                              Bulgaria\n",
       "93                                                Canada\n",
       "129                                               Cyprus\n",
       "135                Democratic People's Republic of Korea\n",
       "141                                              Denmark\n",
       "176                                              Finland\n",
       "179                                               France\n",
       "190                                              Germany\n",
       "223                                              Iceland\n",
       "241                                               Israel\n",
       "244                                                Italy\n",
       "250                                                Japan\n",
       "265                                               Kuwait\n",
       "290                                           Luxembourg\n",
       "302                                             Maldives\n",
       "308                                                Malta\n",
       "326                                               Monaco\n",
       "353                                          Netherlands\n",
       "356                                          New Zealand\n",
       "371                                               Norway\n",
       "407                                    Republic of Korea\n",
       "451                                            Singapore\n",
       "454                                             Slovakia\n",
       "467                                                Spain\n",
       "481                                               Sweden\n",
       "484                                          Switzerland\n",
       "523                                              Ukraine\n",
       "526                                 United Arab Emirates\n",
       "529    United Kingdom of Great Britain and Northern I...\n",
       "Name: Country, dtype: category\n",
       "Categories (192, object): [Afghanistan, Albania, Algeria, Andorra, ..., Viet Nam, Yemen, Zambia, Zimbabwe]"
      ]
     },
     "execution_count": 10,
     "metadata": {},
     "output_type": "execute_result"
    }
   ],
   "source": [
    "# Find countries with a perfect score in all categories in 1990\n",
    "f1990 = Data['Year']=='1990'\n",
    "fPerfect = (Data[numeric_cols] >= 100).any(axis=1)\n",
    "Data.loc[f1990 & fPerfect,'Country']"
   ]
  },
  {
   "cell_type": "markdown",
   "metadata": {},
   "source": [
    "## Check for missing values\n",
    "The `pandas` package is designed for [working with missing data](http://pandas.pydata.org/pandas-docs/stable/missing_data.html). Here are a few examples."
   ]
  },
  {
   "cell_type": "code",
   "execution_count": 11,
   "metadata": {
    "collapsed": false
   },
   "outputs": [
    {
     "data": {
      "text/plain": [
       "Country           0\n",
       "Year              0\n",
       "WaterPctRural    27\n",
       "WaterPctUrban     5\n",
       "WaterPct         19\n",
       "SaniPctRural     39\n",
       "SaniPctUrban     23\n",
       "SaniPct          33\n",
       "dtype: int64"
      ]
     },
     "execution_count": 11,
     "metadata": {},
     "output_type": "execute_result"
    }
   ],
   "source": [
    "# How many NaN's are in each column?\n",
    "Data.isnull().sum()"
   ]
  },
  {
   "cell_type": "code",
   "execution_count": 12,
   "metadata": {
    "collapsed": false
   },
   "outputs": [
    {
     "data": {
      "text/html": [
       "<div>\n",
       "<table border=\"1\" class=\"dataframe\">\n",
       "  <thead>\n",
       "    <tr style=\"text-align: right;\">\n",
       "      <th></th>\n",
       "      <th>Country</th>\n",
       "      <th>Year</th>\n",
       "      <th>WaterPctRural</th>\n",
       "      <th>WaterPctUrban</th>\n",
       "      <th>WaterPct</th>\n",
       "      <th>SaniPctRural</th>\n",
       "      <th>SaniPctUrban</th>\n",
       "      <th>SaniPct</th>\n",
       "    </tr>\n",
       "  </thead>\n",
       "  <tbody>\n",
       "    <tr>\n",
       "      <th>5</th>\n",
       "      <td>Albania</td>\n",
       "      <td>1990-01-01</td>\n",
       "      <td>NaN</td>\n",
       "      <td>100.0</td>\n",
       "      <td>NaN</td>\n",
       "      <td>68.7</td>\n",
       "      <td>94.5</td>\n",
       "      <td>78.1</td>\n",
       "    </tr>\n",
       "    <tr>\n",
       "      <th>15</th>\n",
       "      <td>Antigua and Barbuda</td>\n",
       "      <td>2015-01-01</td>\n",
       "      <td>97.9</td>\n",
       "      <td>97.9</td>\n",
       "      <td>97.9</td>\n",
       "      <td>NaN</td>\n",
       "      <td>NaN</td>\n",
       "      <td>NaN</td>\n",
       "    </tr>\n",
       "    <tr>\n",
       "      <th>23</th>\n",
       "      <td>Armenia</td>\n",
       "      <td>1990-01-01</td>\n",
       "      <td>NaN</td>\n",
       "      <td>98.1</td>\n",
       "      <td>NaN</td>\n",
       "      <td>NaN</td>\n",
       "      <td>95.1</td>\n",
       "      <td>NaN</td>\n",
       "    </tr>\n",
       "    <tr>\n",
       "      <th>32</th>\n",
       "      <td>Azerbaijan</td>\n",
       "      <td>1990-01-01</td>\n",
       "      <td>50.3</td>\n",
       "      <td>85.4</td>\n",
       "      <td>69.1</td>\n",
       "      <td>NaN</td>\n",
       "      <td>NaN</td>\n",
       "      <td>NaN</td>\n",
       "    </tr>\n",
       "    <tr>\n",
       "      <th>64</th>\n",
       "      <td>Bosnia and Herzegovina</td>\n",
       "      <td>1990-01-01</td>\n",
       "      <td>95.7</td>\n",
       "      <td>99.3</td>\n",
       "      <td>97.1</td>\n",
       "      <td>NaN</td>\n",
       "      <td>98.3</td>\n",
       "      <td>NaN</td>\n",
       "    </tr>\n",
       "  </tbody>\n",
       "</table>\n",
       "</div>"
      ],
      "text/plain": [
       "                   Country       Year  WaterPctRural  WaterPctUrban  WaterPct  \\\n",
       "5                  Albania 1990-01-01            NaN          100.0       NaN   \n",
       "15     Antigua and Barbuda 2015-01-01           97.9           97.9      97.9   \n",
       "23                 Armenia 1990-01-01            NaN           98.1       NaN   \n",
       "32              Azerbaijan 1990-01-01           50.3           85.4      69.1   \n",
       "64  Bosnia and Herzegovina 1990-01-01           95.7           99.3      97.1   \n",
       "\n",
       "    SaniPctRural  SaniPctUrban  SaniPct  \n",
       "5           68.7          94.5     78.1  \n",
       "15           NaN           NaN      NaN  \n",
       "23           NaN          95.1      NaN  \n",
       "32           NaN           NaN      NaN  \n",
       "64           NaN          98.3      NaN  "
      ]
     },
     "execution_count": 12,
     "metadata": {},
     "output_type": "execute_result"
    }
   ],
   "source": [
    "# Show the first few rows which have at least one null value\n",
    "fBadRow = Data.isnull().any(axis=1)\n",
    "Data.loc[fBadRow].head()"
   ]
  },
  {
   "cell_type": "markdown",
   "metadata": {},
   "source": [
    "## Use `groupby()` to operate on chunks of a `DataFrame`\n",
    "\n",
    "`DataFrame.groupby()` is used for [split-apply-combine](http://pandas.pydata.org/pandas-docs/stable/groupby.html) operations. It is similar to:\n",
    "\n",
    "* `GROUP BY` in SQL\n",
    "* `groupBy` in Apache Spark\n",
    "* `accumarray()` in MATLAB"
   ]
  },
  {
   "cell_type": "code",
   "execution_count": 13,
   "metadata": {
    "collapsed": false
   },
   "outputs": [
    {
     "data": {
      "text/html": [
       "<div>\n",
       "<table border=\"1\" class=\"dataframe\">\n",
       "  <thead>\n",
       "    <tr style=\"text-align: right;\">\n",
       "      <th></th>\n",
       "      <th>WaterPctRural</th>\n",
       "      <th>WaterPctUrban</th>\n",
       "      <th>WaterPct</th>\n",
       "      <th>SaniPctRural</th>\n",
       "      <th>SaniPctUrban</th>\n",
       "      <th>SaniPct</th>\n",
       "    </tr>\n",
       "    <tr>\n",
       "      <th>Year</th>\n",
       "      <th></th>\n",
       "      <th></th>\n",
       "      <th></th>\n",
       "      <th></th>\n",
       "      <th></th>\n",
       "      <th></th>\n",
       "    </tr>\n",
       "  </thead>\n",
       "  <tbody>\n",
       "    <tr>\n",
       "      <th>1990-01-01</th>\n",
       "      <td>71.579755</td>\n",
       "      <td>91.713143</td>\n",
       "      <td>79.393939</td>\n",
       "      <td>55.735948</td>\n",
       "      <td>75.101235</td>\n",
       "      <td>64.173856</td>\n",
       "    </tr>\n",
       "    <tr>\n",
       "      <th>2000-01-01</th>\n",
       "      <td>75.210638</td>\n",
       "      <td>92.020942</td>\n",
       "      <td>82.521990</td>\n",
       "      <td>59.793583</td>\n",
       "      <td>75.366316</td>\n",
       "      <td>66.941579</td>\n",
       "    </tr>\n",
       "    <tr>\n",
       "      <th>2015-01-01</th>\n",
       "      <td>84.139444</td>\n",
       "      <td>95.176471</td>\n",
       "      <td>89.191257</td>\n",
       "      <td>66.876536</td>\n",
       "      <td>79.102186</td>\n",
       "      <td>72.980769</td>\n",
       "    </tr>\n",
       "  </tbody>\n",
       "</table>\n",
       "</div>"
      ],
      "text/plain": [
       "            WaterPctRural  WaterPctUrban   WaterPct  SaniPctRural  \\\n",
       "Year                                                                \n",
       "1990-01-01      71.579755      91.713143  79.393939     55.735948   \n",
       "2000-01-01      75.210638      92.020942  82.521990     59.793583   \n",
       "2015-01-01      84.139444      95.176471  89.191257     66.876536   \n",
       "\n",
       "            SaniPctUrban    SaniPct  \n",
       "Year                                 \n",
       "1990-01-01     75.101235  64.173856  \n",
       "2000-01-01     75.366316  66.941579  \n",
       "2015-01-01     79.102186  72.980769  "
      ]
     },
     "execution_count": 13,
     "metadata": {},
     "output_type": "execute_result"
    }
   ],
   "source": [
    "# Find the mean of each column for each year\n",
    "Data.groupby('Year').mean()"
   ]
  },
  {
   "cell_type": "code",
   "execution_count": 14,
   "metadata": {
    "collapsed": false
   },
   "outputs": [
    {
     "data": {
      "text/html": [
       "<div>\n",
       "<table border=\"1\" class=\"dataframe\">\n",
       "  <thead>\n",
       "    <tr style=\"text-align: right;\">\n",
       "      <th></th>\n",
       "      <th>WaterPctRural</th>\n",
       "      <th>WaterPctUrban</th>\n",
       "      <th>WaterPct</th>\n",
       "      <th>SaniPctRural</th>\n",
       "      <th>SaniPctUrban</th>\n",
       "      <th>SaniPct</th>\n",
       "    </tr>\n",
       "    <tr>\n",
       "      <th>Year</th>\n",
       "      <th></th>\n",
       "      <th></th>\n",
       "      <th></th>\n",
       "      <th></th>\n",
       "      <th></th>\n",
       "      <th></th>\n",
       "    </tr>\n",
       "  </thead>\n",
       "  <tbody>\n",
       "    <tr>\n",
       "      <th>1990-01-01</th>\n",
       "      <td>74.70</td>\n",
       "      <td>95.9</td>\n",
       "      <td>88.2</td>\n",
       "      <td>59.1</td>\n",
       "      <td>85.70</td>\n",
       "      <td>73.10</td>\n",
       "    </tr>\n",
       "    <tr>\n",
       "      <th>2000-01-01</th>\n",
       "      <td>79.05</td>\n",
       "      <td>95.9</td>\n",
       "      <td>89.9</td>\n",
       "      <td>67.2</td>\n",
       "      <td>83.75</td>\n",
       "      <td>79.25</td>\n",
       "    </tr>\n",
       "    <tr>\n",
       "      <th>2015-01-01</th>\n",
       "      <td>92.20</td>\n",
       "      <td>98.2</td>\n",
       "      <td>95.7</td>\n",
       "      <td>80.7</td>\n",
       "      <td>89.10</td>\n",
       "      <td>86.15</td>\n",
       "    </tr>\n",
       "  </tbody>\n",
       "</table>\n",
       "</div>"
      ],
      "text/plain": [
       "            WaterPctRural  WaterPctUrban  WaterPct  SaniPctRural  \\\n",
       "Year                                                               \n",
       "1990-01-01          74.70           95.9      88.2          59.1   \n",
       "2000-01-01          79.05           95.9      89.9          67.2   \n",
       "2015-01-01          92.20           98.2      95.7          80.7   \n",
       "\n",
       "            SaniPctUrban  SaniPct  \n",
       "Year                               \n",
       "1990-01-01         85.70    73.10  \n",
       "2000-01-01         83.75    79.25  \n",
       "2015-01-01         89.10    86.15  "
      ]
     },
     "execution_count": 14,
     "metadata": {},
     "output_type": "execute_result"
    }
   ],
   "source": [
    "# Find the median of each column for each year\n",
    "Data.groupby('Year').median()"
   ]
  },
  {
   "cell_type": "code",
   "execution_count": 15,
   "metadata": {
    "collapsed": false
   },
   "outputs": [
    {
     "data": {
      "text/plain": [
       "Country\n",
       "Ethiopia            13.2\n",
       "Cambodia            23.4\n",
       "Somalia             23.5\n",
       "Mali                27.1\n",
       "Mauritania          29.1\n",
       "Madagascar          29.5\n",
       "Afghanistan         30.3\n",
       "Niger               33.7\n",
       "Papua New Guinea    33.8\n",
       "Mozambique          35.1\n",
       "Name: WaterPct, dtype: float64"
      ]
     },
     "execution_count": 15,
     "metadata": {},
     "output_type": "execute_result"
    }
   ],
   "source": [
    "# For each country, find the lowest 'WaterPct' value.\n",
    "# Show the lowest 10 values in the resulting Series.\n",
    "Data.groupby('Country')['WaterPct'].min().sort_values().head(10)"
   ]
  },
  {
   "cell_type": "markdown",
   "metadata": {},
   "source": [
    "## Set index columns\n",
    "You can declare one or more columns to be the [Index](http://pandas.pydata.org/pandas-docs/stable/indexing.html) of a DataFrame.  \n",
    "Index columns allow you to access rows by name, not just by row number.  "
   ]
  },
  {
   "cell_type": "code",
   "execution_count": 16,
   "metadata": {
    "collapsed": false
   },
   "outputs": [
    {
     "data": {
      "text/html": [
       "<div>\n",
       "<table border=\"1\" class=\"dataframe\">\n",
       "  <thead>\n",
       "    <tr style=\"text-align: right;\">\n",
       "      <th></th>\n",
       "      <th></th>\n",
       "      <th>WaterPctRural</th>\n",
       "      <th>WaterPctUrban</th>\n",
       "      <th>WaterPct</th>\n",
       "      <th>SaniPctRural</th>\n",
       "      <th>SaniPctUrban</th>\n",
       "      <th>SaniPct</th>\n",
       "    </tr>\n",
       "    <tr>\n",
       "      <th>Country</th>\n",
       "      <th>Year</th>\n",
       "      <th></th>\n",
       "      <th></th>\n",
       "      <th></th>\n",
       "      <th></th>\n",
       "      <th></th>\n",
       "      <th></th>\n",
       "    </tr>\n",
       "  </thead>\n",
       "  <tbody>\n",
       "    <tr>\n",
       "      <th rowspan=\"2\" valign=\"top\">Afghanistan</th>\n",
       "      <th>2000-01-01</th>\n",
       "      <td>24.3</td>\n",
       "      <td>52.2</td>\n",
       "      <td>30.3</td>\n",
       "      <td>21.3</td>\n",
       "      <td>31.2</td>\n",
       "      <td>23.4</td>\n",
       "    </tr>\n",
       "    <tr>\n",
       "      <th>2015-01-01</th>\n",
       "      <td>47.0</td>\n",
       "      <td>78.2</td>\n",
       "      <td>55.3</td>\n",
       "      <td>27.0</td>\n",
       "      <td>45.1</td>\n",
       "      <td>31.9</td>\n",
       "    </tr>\n",
       "    <tr>\n",
       "      <th rowspan=\"3\" valign=\"top\">Albania</th>\n",
       "      <th>1990-01-01</th>\n",
       "      <td>NaN</td>\n",
       "      <td>100.0</td>\n",
       "      <td>NaN</td>\n",
       "      <td>68.7</td>\n",
       "      <td>94.5</td>\n",
       "      <td>78.1</td>\n",
       "    </tr>\n",
       "    <tr>\n",
       "      <th>2000-01-01</th>\n",
       "      <td>93.3</td>\n",
       "      <td>100.0</td>\n",
       "      <td>96.1</td>\n",
       "      <td>75.2</td>\n",
       "      <td>94.8</td>\n",
       "      <td>83.4</td>\n",
       "    </tr>\n",
       "    <tr>\n",
       "      <th>2015-01-01</th>\n",
       "      <td>95.2</td>\n",
       "      <td>94.9</td>\n",
       "      <td>95.1</td>\n",
       "      <td>90.2</td>\n",
       "      <td>95.5</td>\n",
       "      <td>93.2</td>\n",
       "    </tr>\n",
       "  </tbody>\n",
       "</table>\n",
       "</div>"
      ],
      "text/plain": [
       "                        WaterPctRural  WaterPctUrban  WaterPct  SaniPctRural  \\\n",
       "Country     Year                                                               \n",
       "Afghanistan 2000-01-01           24.3           52.2      30.3          21.3   \n",
       "            2015-01-01           47.0           78.2      55.3          27.0   \n",
       "Albania     1990-01-01            NaN          100.0       NaN          68.7   \n",
       "            2000-01-01           93.3          100.0      96.1          75.2   \n",
       "            2015-01-01           95.2           94.9      95.1          90.2   \n",
       "\n",
       "                        SaniPctUrban  SaniPct  \n",
       "Country     Year                               \n",
       "Afghanistan 2000-01-01          31.2     23.4  \n",
       "            2015-01-01          45.1     31.9  \n",
       "Albania     1990-01-01          94.5     78.1  \n",
       "            2000-01-01          94.8     83.4  \n",
       "            2015-01-01          95.5     93.2  "
      ]
     },
     "execution_count": 16,
     "metadata": {},
     "output_type": "execute_result"
    }
   ],
   "source": [
    "Data = Data.set_index(['Country','Year']).sort_index()\n",
    "Data.head()"
   ]
  },
  {
   "cell_type": "code",
   "execution_count": 17,
   "metadata": {
    "collapsed": false
   },
   "outputs": [
    {
     "data": {
      "text/html": [
       "<div>\n",
       "<table border=\"1\" class=\"dataframe\">\n",
       "  <thead>\n",
       "    <tr style=\"text-align: right;\">\n",
       "      <th></th>\n",
       "      <th>WaterPctRural</th>\n",
       "      <th>WaterPctUrban</th>\n",
       "      <th>WaterPct</th>\n",
       "      <th>SaniPctRural</th>\n",
       "      <th>SaniPctUrban</th>\n",
       "      <th>SaniPct</th>\n",
       "    </tr>\n",
       "    <tr>\n",
       "      <th>Year</th>\n",
       "      <th></th>\n",
       "      <th></th>\n",
       "      <th></th>\n",
       "      <th></th>\n",
       "      <th></th>\n",
       "      <th></th>\n",
       "    </tr>\n",
       "  </thead>\n",
       "  <tbody>\n",
       "    <tr>\n",
       "      <th>1990-01-01</th>\n",
       "      <td>94.0</td>\n",
       "      <td>99.8</td>\n",
       "      <td>98.4</td>\n",
       "      <td>98.6</td>\n",
       "      <td>99.8</td>\n",
       "      <td>99.5</td>\n",
       "    </tr>\n",
       "    <tr>\n",
       "      <th>2000-01-01</th>\n",
       "      <td>95.8</td>\n",
       "      <td>99.6</td>\n",
       "      <td>98.8</td>\n",
       "      <td>99.2</td>\n",
       "      <td>99.9</td>\n",
       "      <td>99.7</td>\n",
       "    </tr>\n",
       "    <tr>\n",
       "      <th>2015-01-01</th>\n",
       "      <td>98.2</td>\n",
       "      <td>99.4</td>\n",
       "      <td>99.2</td>\n",
       "      <td>100.0</td>\n",
       "      <td>100.0</td>\n",
       "      <td>100.0</td>\n",
       "    </tr>\n",
       "  </tbody>\n",
       "</table>\n",
       "</div>"
      ],
      "text/plain": [
       "            WaterPctRural  WaterPctUrban  WaterPct  SaniPctRural  \\\n",
       "Year                                                               \n",
       "1990-01-01           94.0           99.8      98.4          98.6   \n",
       "2000-01-01           95.8           99.6      98.8          99.2   \n",
       "2015-01-01           98.2           99.4      99.2         100.0   \n",
       "\n",
       "            SaniPctUrban  SaniPct  \n",
       "Year                               \n",
       "1990-01-01          99.8     99.5  \n",
       "2000-01-01          99.9     99.7  \n",
       "2015-01-01         100.0    100.0  "
      ]
     },
     "execution_count": 17,
     "metadata": {},
     "output_type": "execute_result"
    }
   ],
   "source": [
    "# Look up all rows with a specific country name\n",
    "Data.loc['United States of America']"
   ]
  },
  {
   "cell_type": "code",
   "execution_count": 18,
   "metadata": {
    "collapsed": false
   },
   "outputs": [
    {
     "name": "stdout",
     "output_type": "stream",
     "text": [
      "True\n"
     ]
    },
    {
     "data": {
      "text/html": [
       "<div>\n",
       "<table border=\"1\" class=\"dataframe\">\n",
       "  <thead>\n",
       "    <tr style=\"text-align: right;\">\n",
       "      <th></th>\n",
       "      <th></th>\n",
       "      <th>WaterPctRural</th>\n",
       "      <th>WaterPctUrban</th>\n",
       "      <th>WaterPct</th>\n",
       "      <th>SaniPctRural</th>\n",
       "      <th>SaniPctUrban</th>\n",
       "      <th>SaniPct</th>\n",
       "    </tr>\n",
       "    <tr>\n",
       "      <th>Country</th>\n",
       "      <th>Year</th>\n",
       "      <th></th>\n",
       "      <th></th>\n",
       "      <th></th>\n",
       "      <th></th>\n",
       "      <th></th>\n",
       "      <th></th>\n",
       "    </tr>\n",
       "  </thead>\n",
       "  <tbody>\n",
       "  </tbody>\n",
       "</table>\n",
       "</div>"
      ],
      "text/plain": [
       "Empty DataFrame\n",
       "Columns: [WaterPctRural, WaterPctUrban, WaterPct, SaniPctRural, SaniPctUrban, SaniPct]\n",
       "Index: []"
      ]
     },
     "execution_count": 18,
     "metadata": {},
     "output_type": "execute_result"
    }
   ],
   "source": [
    "# Does each (Country,Year) have at most one row, or are some duplicated?\n",
    "print( Data.index.is_unique )\n",
    "fDuplicate = Data.index.duplicated()\n",
    "Data.loc[fDuplicate]"
   ]
  },
  {
   "cell_type": "code",
   "execution_count": 19,
   "metadata": {
    "collapsed": false
   },
   "outputs": [],
   "source": [
    "# Convert index columns back to regular columns\n",
    "Data = Data.reset_index()"
   ]
  },
  {
   "cell_type": "markdown",
   "metadata": {},
   "source": [
    "## Make some plots\n",
    "See the [pandas visualization docs](http://pandas.pydata.org/pandas-docs/stable/visualization.html) for more examples.  \n",
    "Each suneku lab also comes pre-loaded with the [seaborn](https://seaborn.pydata.org/) library and a custom [sunekutools.viz](https://github.com/samkennerly/suneku/blob/master/sunekutools/viz/viz.ipynb) module for plotting."
   ]
  },
  {
   "cell_type": "code",
   "execution_count": 20,
   "metadata": {
    "collapsed": false
   },
   "outputs": [
    {
     "name": "stdout",
     "output_type": "stream",
     "text": [
      "Histogram of each numeric column\n"
     ]
    },
    {
     "data": {
      "image/png": "[encoded data removed]",
      "text/plain": [
       "<matplotlib.figure.Figure at 0x7ff8bf255d68>"
      ]
     },
     "metadata": {},
     "output_type": "display_data"
    }
   ],
   "source": [
    "# Before doing any math, I like to plot histograms of numeric columns\n",
    "Data.hist(bins=51,figsize=(9,6),range=[0,100])\n",
    "print(\"Histogram of each numeric column\")"
   ]
  },
  {
   "cell_type": "code",
   "execution_count": 21,
   "metadata": {
    "collapsed": false
   },
   "outputs": [
    {
     "name": "stdout",
     "output_type": "stream",
     "text": [
      "Urban percent minus Rural percent\n"
     ]
    },
    {
     "data": {
      "image/png": "[encoded data removed]",
      "text/plain": [
       "<matplotlib.figure.Figure at 0x7ff8bcb49c18>"
      ]
     },
     "metadata": {},
     "output_type": "display_data"
    }
   ],
   "source": [
    "# Are urban areas usually better or worse off than rural areas?\n",
    "UrbanVsRural = st.pd.DataFrame(index=Data.index)\n",
    "UrbanVsRural['Sani'] = Data['SaniPctUrban'] - Data['SaniPctRural']\n",
    "UrbanVsRural['Water'] = Data['WaterPctUrban'] - Data['WaterPctRural']\n",
    "UrbanVsRural.hist(bins=51,range=[-100,100],figsize=(9,2))\n",
    "print(\"Urban percent minus Rural percent\")"
   ]
  }
 ],
 "metadata": {
  "anaconda-cloud": {},
  "kernelspec": {
   "display_name": "Python [conda root]",
   "language": "python",
   "name": "conda-root-py"
  },
  "language_info": {
   "codemirror_mode": {
    "name": "ipython",
    "version": 3
   },
   "file_extension": ".py",
   "mimetype": "text/x-python",
   "name": "python",
   "nbconvert_exporter": "python",
   "pygments_lexer": "ipython3",
   "version": "3.5.2"
  }
 },
 "nbformat": 4,
 "nbformat_minor": 1
}
