{
 "cells": [
  {
   "cell_type": "markdown",
   "metadata": {},
   "source": [
    "# sunekutools.zero"
   ]
  },
  {
   "cell_type": "code",
   "execution_count": 1,
   "metadata": {},
   "outputs": [],
   "source": [
    "from sunekutools import *"
   ]
  },
  {
   "cell_type": "code",
   "execution_count": 2,
   "metadata": {},
   "outputs": [
    {
     "name": "stdout",
     "output_type": "stream",
     "text": [
      "module\n",
      "\n",
      "Top-level constants and functions imported all before other modules.\n",
      "\n"
     ]
    }
   ],
   "source": [
    "hello(zero)"
   ]
  },
  {
   "cell_type": "markdown",
   "metadata": {},
   "source": [
    "## REPO"
   ]
  },
  {
   "cell_type": "code",
   "execution_count": 3,
   "metadata": {},
   "outputs": [
    {
     "data": {
      "text/plain": [
       "PosixPath('/home/kingofsnake/suneku')"
      ]
     },
     "execution_count": 3,
     "metadata": {},
     "output_type": "execute_result"
    }
   ],
   "source": [
    "REPO"
   ]
  },
  {
   "cell_type": "code",
   "execution_count": 4,
   "metadata": {},
   "outputs": [
    {
     "name": "stdout",
     "output_type": "stream",
     "text": [
      "setup.py\n",
      "TEMP/classify.py\n",
      "tests/hello.py\n",
      "sunekutools/plot.py\n",
      "sunekutools/classifier.py\n",
      "sunekutools/__init__.py\n",
      "sunekutools/zero.py\n"
     ]
    }
   ],
   "source": [
    "pyfiles = REPO.glob('**/*.py')\n",
    "for x in pyfiles:\n",
    "    print(x.relative_to(REPO))"
   ]
  },
  {
   "cell_type": "markdown",
   "metadata": {},
   "source": [
    "## echo"
   ]
  },
  {
   "cell_type": "code",
   "execution_count": 5,
   "metadata": {},
   "outputs": [
    {
     "name": "stdout",
     "output_type": "stream",
     "text": [
      "function\n",
      " None: Print timestamped message. \n",
      "2018-09-17 04:50:10 Hello, World!\n"
     ]
    }
   ],
   "source": [
    "hello(echo)\n",
    "echo('Hello, World!')"
   ]
  },
  {
   "cell_type": "markdown",
   "metadata": {},
   "source": [
    "## fullpath"
   ]
  },
  {
   "cell_type": "code",
   "execution_count": 6,
   "metadata": {},
   "outputs": [
    {
     "name": "stdout",
     "output_type": "stream",
     "text": [
      "function\n",
      "\n",
      "    Path: Expand path relative to current working directory.\n",
      "    Accepts string or pathlib.Path input. String can include '~'.\n",
      "    Does not expand absolute paths. Does not resolve dots.\n",
      "    \n"
     ]
    },
    {
     "data": {
      "text/plain": [
       "PosixPath('/home/kingofsnake/suneku/..')"
      ]
     },
     "execution_count": 6,
     "metadata": {},
     "output_type": "execute_result"
    }
   ],
   "source": [
    "hello(fullpath)\n",
    "fullpath('~/suneku/..')"
   ]
  },
  {
   "cell_type": "markdown",
   "metadata": {},
   "source": [
    "## hello"
   ]
  },
  {
   "cell_type": "code",
   "execution_count": 7,
   "metadata": {},
   "outputs": [
    {
     "name": "stdout",
     "output_type": "stream",
     "text": [
      "function\n",
      " None: Print short description of any Python object. \n"
     ]
    }
   ],
   "source": [
    "hello(hello)"
   ]
  },
  {
   "cell_type": "markdown",
   "metadata": {},
   "source": [
    "## isotime"
   ]
  },
  {
   "cell_type": "code",
   "execution_count": 8,
   "metadata": {},
   "outputs": [
    {
     "name": "stdout",
     "output_type": "stream",
     "text": [
      "function\n",
      " str: Current UTC date and time in ISO format. \n"
     ]
    },
    {
     "data": {
      "text/plain": [
       "'2018-09-17T04:50:10.078646'"
      ]
     },
     "execution_count": 8,
     "metadata": {},
     "output_type": "execute_result"
    }
   ],
   "source": [
    "hello(isotime)\n",
    "isotime()"
   ]
  },
  {
   "cell_type": "markdown",
   "metadata": {},
   "source": [
    "## zulutime"
   ]
  },
  {
   "cell_type": "code",
   "execution_count": 9,
   "metadata": {},
   "outputs": [
    {
     "name": "stdout",
     "output_type": "stream",
     "text": [
      "function\n",
      "\n",
      "    Timestamp: UTC time from string or timelike input.\n",
      "    OR Series: Series of UTC Timestamps from Series input.\n",
      "    OR DatetimeIndex: UTC Timestamps from iterable input.\n",
      "    \n"
     ]
    },
    {
     "data": {
      "text/plain": [
       "Timestamp('2020-05-01 16:34:56')"
      ]
     },
     "execution_count": 9,
     "metadata": {},
     "output_type": "execute_result"
    }
   ],
   "source": [
    "hello(zulutime)\n",
    "zulutime('May 1, 2020 4:34:56 pm')"
   ]
  },
  {
   "cell_type": "code",
   "execution_count": 10,
   "metadata": {},
   "outputs": [
    {
     "data": {
      "text/plain": [
       "DatetimeIndex(['2000-05-01', '2000-05-02', '2000-05-03'], dtype='datetime64[ns]', freq=None)"
      ]
     },
     "execution_count": 10,
     "metadata": {},
     "output_type": "execute_result"
    }
   ],
   "source": [
    "times = [ \"2000-5-{}\".format(x) for x in range(1,4) ]\n",
    "zulutime(times)"
   ]
  }
 ],
 "metadata": {
  "kernelspec": {
   "display_name": "Python 3",
   "language": "python",
   "name": "python3"
  },
  "language_info": {
   "codemirror_mode": {
    "name": "ipython",
    "version": 3
   },
   "file_extension": ".py",
   "mimetype": "text/x-python",
   "name": "python",
   "nbconvert_exporter": "python",
   "pygments_lexer": "ipython3",
   "version": "3.6.5"
  }
 },
 "nbformat": 4,
 "nbformat_minor": 2
}
